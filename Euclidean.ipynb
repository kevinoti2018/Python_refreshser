{
  "nbformat": 4,
  "nbformat_minor": 0,
  "metadata": {
    "colab": {
      "provenance": [],
      "authorship_tag": "ABX9TyMYEpcwfV4o27bFJqkCZRLU",
      "include_colab_link": true
    },
    "kernelspec": {
      "name": "python3",
      "display_name": "Python 3"
    },
    "language_info": {
      "name": "python"
    }
  },
  "cells": [
    {
      "cell_type": "markdown",
      "metadata": {
        "id": "view-in-github",
        "colab_type": "text"
      },
      "source": [
        "<a href=\"https://colab.research.google.com/github/kevinoti2018/Python_refreshser/blob/master/Euclidean.ipynb\" target=\"_parent\"><img src=\"https://colab.research.google.com/assets/colab-badge.svg\" alt=\"Open In Colab\"/></a>"
      ]
    },
    {
      "cell_type": "code",
      "execution_count": 2,
      "metadata": {
        "id": "KqFf1dDYjLMX"
      },
      "outputs": [],
      "source": [
        "import matplotlib.pyplot as plt"
      ]
    },
    {
      "cell_type": "code",
      "source": [
        "import numpy as np"
      ],
      "metadata": {
        "id": "chCjUjZdvjWc"
      },
      "execution_count": 3,
      "outputs": []
    },
    {
      "cell_type": "markdown",
      "source": [
        "#  Now draw the separating line back in the original Euclidean input space"
      ],
      "metadata": {
        "id": "pPQXf1Xhv2e7"
      }
    },
    {
      "cell_type": "code",
      "source": [
        "X = np.array([[-1, 1], [-1, -1], [1, -1], [1, 1]])"
      ],
      "metadata": {
        "id": "r8O4bYMPvnpp"
      },
      "execution_count": 4,
      "outputs": []
    },
    {
      "cell_type": "code",
      "source": [
        "y = np.array([-1, 1, 1, -1])"
      ],
      "metadata": {
        "id": "pGv7F8b_v87U"
      },
      "execution_count": 5,
      "outputs": []
    },
    {
      "cell_type": "markdown",
      "source": [
        "# Separating line in the original space"
      ],
      "metadata": {
        "id": "vjERJfIIwEX1"
      }
    },
    {
      "cell_type": "code",
      "source": [
        "x1 = np.array([-1.2, 1.2])"
      ],
      "metadata": {
        "id": "kvy1KNdDwBpX"
      },
      "execution_count": 6,
      "outputs": []
    },
    {
      "cell_type": "code",
      "source": [
        "x2 = np.sqrt(2) * x1"
      ],
      "metadata": {
        "id": "6-LE3RK8wRVP"
      },
      "execution_count": 7,
      "outputs": []
    },
    {
      "cell_type": "markdown",
      "source": [
        "# Plot input points and separating line"
      ],
      "metadata": {
        "id": "ehVmAGw6wcI2"
      }
    },
    {
      "cell_type": "markdown",
      "source": [],
      "metadata": {
        "id": "47t356g5xiAA"
      }
    },
    {
      "cell_type": "code",
      "source": [
        "plt.scatter(X[:,0], X[:,1], c=y)\n",
        "plt.plot(x1, x2, 'k--')\n",
        "plt.xlim(-1.2, 1.2)\n",
        "plt.ylim(-1.2, 1.2)\n",
        "plt.xlabel('x1')\n",
        "plt.ylabel('x2')\n",
        "plt.show()"
      ],
      "metadata": {
        "colab": {
          "base_uri": "https://localhost:8080/",
          "height": 279
        },
        "id": "U8fEiJs8wf5s",
        "outputId": "43b19b4c-e652-46bd-d599-931cc64cd900"
      },
      "execution_count": 15,
      "outputs": [
        {
          "output_type": "display_data",
          "data": {
            "text/plain": [
              "<Figure size 432x288 with 1 Axes>"
            ],
            "image/png": "[encoded data removed]"
          },
          "metadata": {
            "needs_background": "light"
          }
        }
      ]
    },
    {
      "cell_type": "markdown",
      "source": [
        "The plot shows the four input points and the separating line in the original Euclidean input space. The maximal margin separator is a diagonal line that passes through the origin, and its margin is the distance between the two closest points on either side of the separator."
      ],
      "metadata": {
        "id": "w_Norm4Hx7bL"
      }
    }
  ]
}